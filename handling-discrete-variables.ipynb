{
 "cells": [
  {
   "cell_type": "markdown",
   "id": "effective-preservation",
   "metadata": {},
   "source": [
    "#### Tips and tricks for encoding categorical features in classification tasks\n",
    "\n",
    "Features come in various flavors. Typically we distinguish them as \n",
    "* continuous \n",
    "* discrete (categorical) features\n",
    "\n",
    "Discrete features can be further distinguished into \n",
    "* Nominal (no order implied)\n",
    "* Ordinal\n",
    "\n",
    "Most machine learning algorithms expect the inputs to be numerical and we need to preprocess \n",
    "the data accordingly. This notebook contains some helpful tips on how to encode discrete features\n",
    "using pandas and scikit-learn"
   ]
  },
  {
   "cell_type": "markdown",
   "id": "comfortable-jumping",
   "metadata": {},
   "source": [
    "First, let's create a simple example dataset with 3 different kinds of features:\n",
    "\n",
    "* color: nominal\n",
    "* size: ordinal\n",
    "* price: continuous"
   ]
  },
  {
   "cell_type": "code",
   "execution_count": 56,
   "id": "active-female",
   "metadata": {},
   "outputs": [
    {
     "data": {
      "text/html": [
       "<div>\n",
       "<style scoped>\n",
       "    .dataframe tbody tr th:only-of-type {\n",
       "        vertical-align: middle;\n",
       "    }\n",
       "\n",
       "    .dataframe tbody tr th {\n",
       "        vertical-align: top;\n",
       "    }\n",
       "\n",
       "    .dataframe thead th {\n",
       "        text-align: right;\n",
       "    }\n",
       "</style>\n",
       "<table border=\"1\" class=\"dataframe\">\n",
       "  <thead>\n",
       "    <tr style=\"text-align: right;\">\n",
       "      <th></th>\n",
       "      <th>color</th>\n",
       "      <th>size</th>\n",
       "      <th>price</th>\n",
       "      <th>class label</th>\n",
       "    </tr>\n",
       "  </thead>\n",
       "  <tbody>\n",
       "    <tr>\n",
       "      <th>0</th>\n",
       "      <td>green</td>\n",
       "      <td>M</td>\n",
       "      <td>10.4</td>\n",
       "      <td>class1</td>\n",
       "    </tr>\n",
       "    <tr>\n",
       "      <th>1</th>\n",
       "      <td>red</td>\n",
       "      <td>L</td>\n",
       "      <td>13.5</td>\n",
       "      <td>class2</td>\n",
       "    </tr>\n",
       "    <tr>\n",
       "      <th>2</th>\n",
       "      <td>blue</td>\n",
       "      <td>XXL</td>\n",
       "      <td>15.4</td>\n",
       "      <td>class2</td>\n",
       "    </tr>\n",
       "  </tbody>\n",
       "</table>\n",
       "</div>"
      ],
      "text/plain": [
       "   color size  price class label\n",
       "0  green    M   10.4      class1\n",
       "1    red    L   13.5      class2\n",
       "2   blue  XXL   15.4      class2"
      ]
     },
     "execution_count": 56,
     "metadata": {},
     "output_type": "execute_result"
    }
   ],
   "source": [
    "import pandas as pd\n",
    "df = pd.DataFrame([\n",
    "            [\"green\", \"M\", 10.4, \"class1\"],\n",
    "            [\"red\", \"L\", 13.5, \"class2\"],\n",
    "            [\"blue\", \"XXL\", 15.40, \"class2\"]])\n",
    "\n",
    "df.columns = [\"color\", \"size\", \"price\", \"class label\"]\n",
    "df"
   ]
  },
  {
   "cell_type": "markdown",
   "id": "isolated-terry",
   "metadata": {},
   "source": [
    "#### Class Labels"
   ]
  },
  {
   "cell_type": "markdown",
   "id": "acceptable-participant",
   "metadata": {},
   "source": [
    "Typically machine learning algorithms handle class labels with no order implied - unless we use\n",
    "a ranking classifier (e.g., SVM-rank). Thus, it is safe to use a simple set-item-enumeration to \n",
    "convert the class labels from string representation into integers."
   ]
  },
  {
   "cell_type": "code",
   "execution_count": 57,
   "id": "loose-wales",
   "metadata": {},
   "outputs": [
    {
     "data": {
      "text/html": [
       "<div>\n",
       "<style scoped>\n",
       "    .dataframe tbody tr th:only-of-type {\n",
       "        vertical-align: middle;\n",
       "    }\n",
       "\n",
       "    .dataframe tbody tr th {\n",
       "        vertical-align: top;\n",
       "    }\n",
       "\n",
       "    .dataframe thead th {\n",
       "        text-align: right;\n",
       "    }\n",
       "</style>\n",
       "<table border=\"1\" class=\"dataframe\">\n",
       "  <thead>\n",
       "    <tr style=\"text-align: right;\">\n",
       "      <th></th>\n",
       "      <th>color</th>\n",
       "      <th>size</th>\n",
       "      <th>price</th>\n",
       "      <th>class label</th>\n",
       "    </tr>\n",
       "  </thead>\n",
       "  <tbody>\n",
       "    <tr>\n",
       "      <th>0</th>\n",
       "      <td>green</td>\n",
       "      <td>M</td>\n",
       "      <td>10.4</td>\n",
       "      <td>0</td>\n",
       "    </tr>\n",
       "    <tr>\n",
       "      <th>1</th>\n",
       "      <td>red</td>\n",
       "      <td>L</td>\n",
       "      <td>13.5</td>\n",
       "      <td>1</td>\n",
       "    </tr>\n",
       "    <tr>\n",
       "      <th>2</th>\n",
       "      <td>blue</td>\n",
       "      <td>XXL</td>\n",
       "      <td>15.4</td>\n",
       "      <td>1</td>\n",
       "    </tr>\n",
       "  </tbody>\n",
       "</table>\n",
       "</div>"
      ],
      "text/plain": [
       "   color size  price  class label\n",
       "0  green    M   10.4            0\n",
       "1    red    L   13.5            1\n",
       "2   blue  XXL   15.4            1"
      ]
     },
     "execution_count": 57,
     "metadata": {},
     "output_type": "execute_result"
    }
   ],
   "source": [
    "class_mapping = {label:idx for idx,label in enumerate(set(df['class label']))}\n",
    "\n",
    "df['class label'] = df[\"class label\"].map(class_mapping)\n",
    "df"
   ]
  },
  {
   "cell_type": "code",
   "execution_count": 58,
   "id": "threaded-victory",
   "metadata": {},
   "outputs": [
    {
     "data": {
      "text/plain": [
       "{'class1': 0, 'class2': 1}"
      ]
     },
     "execution_count": 58,
     "metadata": {},
     "output_type": "execute_result"
    }
   ],
   "source": [
    "class_mapping"
   ]
  },
  {
   "cell_type": "markdown",
   "id": "satisfied-filter",
   "metadata": {},
   "source": [
    "##### Ordinal Features"
   ]
  },
  {
   "cell_type": "markdown",
   "id": "informational-orchestra",
   "metadata": {},
   "source": [
    "Ordinal features need special attention. We have to make sure that the correct values are associated with the corresponding strings. Thus, we need to set-up an explicit mapping dictionary:"
   ]
  },
  {
   "cell_type": "code",
   "execution_count": 59,
   "id": "reverse-porcelain",
   "metadata": {},
   "outputs": [
    {
     "data": {
      "text/html": [
       "<div>\n",
       "<style scoped>\n",
       "    .dataframe tbody tr th:only-of-type {\n",
       "        vertical-align: middle;\n",
       "    }\n",
       "\n",
       "    .dataframe tbody tr th {\n",
       "        vertical-align: top;\n",
       "    }\n",
       "\n",
       "    .dataframe thead th {\n",
       "        text-align: right;\n",
       "    }\n",
       "</style>\n",
       "<table border=\"1\" class=\"dataframe\">\n",
       "  <thead>\n",
       "    <tr style=\"text-align: right;\">\n",
       "      <th></th>\n",
       "      <th>color</th>\n",
       "      <th>size</th>\n",
       "      <th>price</th>\n",
       "      <th>class label</th>\n",
       "    </tr>\n",
       "  </thead>\n",
       "  <tbody>\n",
       "    <tr>\n",
       "      <th>0</th>\n",
       "      <td>green</td>\n",
       "      <td>1</td>\n",
       "      <td>10.4</td>\n",
       "      <td>0</td>\n",
       "    </tr>\n",
       "    <tr>\n",
       "      <th>1</th>\n",
       "      <td>red</td>\n",
       "      <td>2</td>\n",
       "      <td>13.5</td>\n",
       "      <td>1</td>\n",
       "    </tr>\n",
       "    <tr>\n",
       "      <th>2</th>\n",
       "      <td>blue</td>\n",
       "      <td>4</td>\n",
       "      <td>15.4</td>\n",
       "      <td>1</td>\n",
       "    </tr>\n",
       "  </tbody>\n",
       "</table>\n",
       "</div>"
      ],
      "text/plain": [
       "   color  size  price  class label\n",
       "0  green     1   10.4            0\n",
       "1    red     2   13.5            1\n",
       "2   blue     4   15.4            1"
      ]
     },
     "execution_count": 59,
     "metadata": {},
     "output_type": "execute_result"
    }
   ],
   "source": [
    "size_mapping = {\n",
    "        \"XXL\": 4,\n",
    "        \"L\"  : 2,\n",
    "        \"M\"  : 1}\n",
    "\n",
    "df[\"size\"] = df[\"size\"].map(size_mapping)\n",
    "df"
   ]
  },
  {
   "cell_type": "code",
   "execution_count": 60,
   "id": "balanced-replacement",
   "metadata": {},
   "outputs": [
    {
     "data": {
      "text/plain": [
       "{'XXL': 4, 'L': 2, 'M': 1}"
      ]
     },
     "execution_count": 60,
     "metadata": {},
     "output_type": "execute_result"
    }
   ],
   "source": [
    "size_mapping"
   ]
  },
  {
   "cell_type": "markdown",
   "id": "acceptable-lawrence",
   "metadata": {},
   "source": [
    "##### Nominal Features"
   ]
  },
  {
   "cell_type": "markdown",
   "id": "direct-baptist",
   "metadata": {},
   "source": [
    "Unfortunately, we cannot use the same trick we used for color for nominal features. However, we can use a simple trick by converting each color into a binary feature, with presence of color representated by 1."
   ]
  },
  {
   "cell_type": "code",
   "execution_count": 61,
   "id": "waiting-bench",
   "metadata": {},
   "outputs": [
    {
     "data": {
      "text/html": [
       "<div>\n",
       "<style scoped>\n",
       "    .dataframe tbody tr th:only-of-type {\n",
       "        vertical-align: middle;\n",
       "    }\n",
       "\n",
       "    .dataframe tbody tr th {\n",
       "        vertical-align: top;\n",
       "    }\n",
       "\n",
       "    .dataframe thead th {\n",
       "        text-align: right;\n",
       "    }\n",
       "</style>\n",
       "<table border=\"1\" class=\"dataframe\">\n",
       "  <thead>\n",
       "    <tr style=\"text-align: right;\">\n",
       "      <th></th>\n",
       "      <th>color</th>\n",
       "      <th>size</th>\n",
       "      <th>price</th>\n",
       "      <th>class label</th>\n",
       "    </tr>\n",
       "  </thead>\n",
       "  <tbody>\n",
       "    <tr>\n",
       "      <th>0</th>\n",
       "      <td>(0, 0, 1)</td>\n",
       "      <td>1</td>\n",
       "      <td>10.4</td>\n",
       "      <td>0</td>\n",
       "    </tr>\n",
       "    <tr>\n",
       "      <th>1</th>\n",
       "      <td>(0, 1, 0)</td>\n",
       "      <td>2</td>\n",
       "      <td>13.5</td>\n",
       "      <td>1</td>\n",
       "    </tr>\n",
       "    <tr>\n",
       "      <th>2</th>\n",
       "      <td>(1, 0, 0)</td>\n",
       "      <td>4</td>\n",
       "      <td>15.4</td>\n",
       "      <td>1</td>\n",
       "    </tr>\n",
       "  </tbody>\n",
       "</table>\n",
       "</div>"
      ],
      "text/plain": [
       "       color  size  price  class label\n",
       "0  (0, 0, 1)     1   10.4            0\n",
       "1  (0, 1, 0)     2   13.5            1\n",
       "2  (1, 0, 0)     4   15.4            1"
      ]
     },
     "execution_count": 61,
     "metadata": {},
     "output_type": "execute_result"
    }
   ],
   "source": [
    "color_mapping = {\n",
    "        \"green\": (0, 0, 1),\n",
    "        \"red\"  : (0, 1, 0),\n",
    "        \"blue\" : (1, 0, 0)}\n",
    "\n",
    "df[\"color\"] = df[\"color\"].map(color_mapping)\n",
    "df"
   ]
  },
  {
   "cell_type": "code",
   "execution_count": 62,
   "id": "amateur-welsh",
   "metadata": {},
   "outputs": [
    {
     "data": {
      "text/plain": [
       "{'green': (0, 0, 1), 'red': (0, 1, 0), 'blue': (1, 0, 0)}"
      ]
     },
     "execution_count": 62,
     "metadata": {},
     "output_type": "execute_result"
    }
   ],
   "source": [
    "color_mapping"
   ]
  },
  {
   "cell_type": "markdown",
   "id": "closing-gauge",
   "metadata": {},
   "source": [
    "Using numpy"
   ]
  },
  {
   "cell_type": "code",
   "execution_count": 63,
   "id": "subjective-tuning",
   "metadata": {},
   "outputs": [
    {
     "name": "stdout",
     "output_type": "stream",
     "text": [
      "Class labels: [0 1 1]\n",
      "\n",
      "Features:\n",
      " [[ 0.   0.   1.   1.  10.4]\n",
      " [ 0.   1.   0.   2.  13.5]\n",
      " [ 1.   0.   0.   4.  15.4]]\n"
     ]
    }
   ],
   "source": [
    "import numpy as np\n",
    "y = df[\"class label\"].values\n",
    "X = df.iloc[:, :-1].values\n",
    "X = np.apply_along_axis(func1d= lambda x: np.array(list(x[0]) + list(x[1:])), axis=1, arr=X)\n",
    "\n",
    "print(\"Class labels:\", y)\n",
    "print(\"\\nFeatures:\\n\", X)"
   ]
  },
  {
   "cell_type": "markdown",
   "id": "weekly-spiritual",
   "metadata": {},
   "source": [
    "#### Inverse mapping"
   ]
  },
  {
   "cell_type": "markdown",
   "id": "stuffed-ancient",
   "metadata": {},
   "source": [
    "If we want to convert the numerical features back into their original representation, we can simply do so by using inverted mapping dictionary:"
   ]
  },
  {
   "cell_type": "code",
   "execution_count": 64,
   "id": "aboriginal-affiliation",
   "metadata": {},
   "outputs": [
    {
     "data": {
      "text/html": [
       "<div>\n",
       "<style scoped>\n",
       "    .dataframe tbody tr th:only-of-type {\n",
       "        vertical-align: middle;\n",
       "    }\n",
       "\n",
       "    .dataframe tbody tr th {\n",
       "        vertical-align: top;\n",
       "    }\n",
       "\n",
       "    .dataframe thead th {\n",
       "        text-align: right;\n",
       "    }\n",
       "</style>\n",
       "<table border=\"1\" class=\"dataframe\">\n",
       "  <thead>\n",
       "    <tr style=\"text-align: right;\">\n",
       "      <th></th>\n",
       "      <th>color</th>\n",
       "      <th>size</th>\n",
       "      <th>price</th>\n",
       "      <th>class label</th>\n",
       "    </tr>\n",
       "  </thead>\n",
       "  <tbody>\n",
       "    <tr>\n",
       "      <th>0</th>\n",
       "      <td>green</td>\n",
       "      <td>M</td>\n",
       "      <td>10.4</td>\n",
       "      <td>class1</td>\n",
       "    </tr>\n",
       "    <tr>\n",
       "      <th>1</th>\n",
       "      <td>red</td>\n",
       "      <td>L</td>\n",
       "      <td>13.5</td>\n",
       "      <td>class2</td>\n",
       "    </tr>\n",
       "    <tr>\n",
       "      <th>2</th>\n",
       "      <td>blue</td>\n",
       "      <td>XXL</td>\n",
       "      <td>15.4</td>\n",
       "      <td>class2</td>\n",
       "    </tr>\n",
       "  </tbody>\n",
       "</table>\n",
       "</div>"
      ],
      "text/plain": [
       "   color size  price class label\n",
       "0  green    M   10.4      class1\n",
       "1    red    L   13.5      class2\n",
       "2   blue  XXL   15.4      class2"
      ]
     },
     "execution_count": 64,
     "metadata": {},
     "output_type": "execute_result"
    }
   ],
   "source": [
    "inv_color_mapping = {v:k for k,v in color_mapping.items()}\n",
    "inv_size_mapping = {v:k for k,v in size_mapping.items()}\n",
    "inv_class_mapping = {v:k for k,v in class_mapping.items()}\n",
    "\n",
    "df['color'] = df[\"color\"].map(inv_color_mapping)\n",
    "df[\"class label\"] = df[\"class label\"].map(inv_class_mapping)\n",
    "df[\"size\"] = df[\"size\"].map(inv_size_mapping)\n",
    "df"
   ]
  },
  {
   "cell_type": "markdown",
   "id": "contrary-howard",
   "metadata": {},
   "source": [
    "#### Using Scikit-learn and pandas to accomplish the same thing"
   ]
  },
  {
   "cell_type": "markdown",
   "id": "abroad-horror",
   "metadata": {},
   "source": [
    "scikit-learn machine learning librariy comes with many useful preprocessing functions that we can use\n",
    "for our convenience."
   ]
  },
  {
   "cell_type": "markdown",
   "id": "seven-grammar",
   "metadata": {},
   "source": [
    "scikit-learn LabelEncoder"
   ]
  },
  {
   "cell_type": "code",
   "execution_count": 65,
   "id": "functional-newcastle",
   "metadata": {},
   "outputs": [
    {
     "data": {
      "text/html": [
       "<div>\n",
       "<style scoped>\n",
       "    .dataframe tbody tr th:only-of-type {\n",
       "        vertical-align: middle;\n",
       "    }\n",
       "\n",
       "    .dataframe tbody tr th {\n",
       "        vertical-align: top;\n",
       "    }\n",
       "\n",
       "    .dataframe thead th {\n",
       "        text-align: right;\n",
       "    }\n",
       "</style>\n",
       "<table border=\"1\" class=\"dataframe\">\n",
       "  <thead>\n",
       "    <tr style=\"text-align: right;\">\n",
       "      <th></th>\n",
       "      <th>color</th>\n",
       "      <th>size</th>\n",
       "      <th>price</th>\n",
       "      <th>class label</th>\n",
       "    </tr>\n",
       "  </thead>\n",
       "  <tbody>\n",
       "    <tr>\n",
       "      <th>0</th>\n",
       "      <td>green</td>\n",
       "      <td>1</td>\n",
       "      <td>10.4</td>\n",
       "      <td>0</td>\n",
       "    </tr>\n",
       "    <tr>\n",
       "      <th>1</th>\n",
       "      <td>red</td>\n",
       "      <td>2</td>\n",
       "      <td>13.5</td>\n",
       "      <td>1</td>\n",
       "    </tr>\n",
       "    <tr>\n",
       "      <th>2</th>\n",
       "      <td>blue</td>\n",
       "      <td>4</td>\n",
       "      <td>15.4</td>\n",
       "      <td>1</td>\n",
       "    </tr>\n",
       "  </tbody>\n",
       "</table>\n",
       "</div>"
      ],
      "text/plain": [
       "   color  size  price  class label\n",
       "0  green     1   10.4            0\n",
       "1    red     2   13.5            1\n",
       "2   blue     4   15.4            1"
      ]
     },
     "execution_count": 65,
     "metadata": {},
     "output_type": "execute_result"
    }
   ],
   "source": [
    "from sklearn.preprocessing import LabelEncoder\n",
    "\n",
    "class_le = LabelEncoder()\n",
    "df[\"class label\"] = class_le.fit_transform(df[\"class label\"])\n",
    "\n",
    "size_mapping = {\n",
    "        \"XXL\": 4,\n",
    "        \"L\"  : 2,\n",
    "        \"M\"  : 1}\n",
    "df[\"size\"] = df[\"size\"].map(size_mapping)\n",
    "df"
   ]
  },
  {
   "cell_type": "markdown",
   "id": "activated-actor",
   "metadata": {},
   "source": [
    "Class labels can be converted back from integer to string via the inverse_transform method:"
   ]
  },
  {
   "cell_type": "code",
   "execution_count": 66,
   "id": "otherwise-muslim",
   "metadata": {},
   "outputs": [
    {
     "data": {
      "text/plain": [
       "array(['class1', 'class2', 'class2'], dtype=object)"
      ]
     },
     "execution_count": 66,
     "metadata": {},
     "output_type": "execute_result"
    }
   ],
   "source": [
    "class_le.inverse_transform(df[\"class label\"])"
   ]
  },
  {
   "cell_type": "markdown",
   "id": "approved-opening",
   "metadata": {},
   "source": [
    "##### scikit DictVectorizer"
   ]
  },
  {
   "cell_type": "markdown",
   "id": "marked-cover",
   "metadata": {},
   "source": [
    "The ```DictVectorizer``` is another handy tool for feature extraction. The ```DictVectorizer``` takes a list of dictionary entries (feature-value mappings) and transforms it to vectors. The expected input looks like this:"
   ]
  },
  {
   "cell_type": "code",
   "execution_count": 67,
   "id": "owned-heaven",
   "metadata": {},
   "outputs": [
    {
     "data": {
      "text/plain": [
       "dict_values([{'color': 'green', 'size': 1, 'price': 10.4, 'class label': 0}, {'color': 'red', 'size': 2, 'price': 13.5, 'class label': 1}, {'color': 'blue', 'size': 4, 'price': 15.4, 'class label': 1}])"
      ]
     },
     "execution_count": 67,
     "metadata": {},
     "output_type": "execute_result"
    }
   ],
   "source": [
    "df.transpose().to_dict().values()"
   ]
  },
  {
   "cell_type": "markdown",
   "id": "recorded-dairy",
   "metadata": {},
   "source": [
    "Dictionary keys in each row represents the feature columns and label column"
   ]
  },
  {
   "cell_type": "markdown",
   "id": "unique-utility",
   "metadata": {},
   "source": [
    "Now we can use ```DictVectorizer``` to turn this mapping into a matrix"
   ]
  },
  {
   "cell_type": "code",
   "execution_count": 68,
   "id": "broke-princeton",
   "metadata": {},
   "outputs": [
    {
     "data": {
      "text/plain": [
       "array([[ 0. ,  0. ,  1. ,  0. , 10.4,  1. ],\n",
       "       [ 1. ,  0. ,  0. ,  1. , 13.5,  2. ],\n",
       "       [ 1. ,  1. ,  0. ,  0. , 15.4,  4. ]])"
      ]
     },
     "execution_count": 68,
     "metadata": {},
     "output_type": "execute_result"
    }
   ],
   "source": [
    "from sklearn.feature_extraction import DictVectorizer\n",
    "dvec = DictVectorizer(sparse=False)\n",
    "\n",
    "X = dvec.fit_transform(df.transpose().to_dict().values())\n",
    "X"
   ]
  },
  {
   "cell_type": "markdown",
   "id": "designing-external",
   "metadata": {},
   "source": [
    "We can see that the column were reordered during the conversion. We can just simply add back the column names via the ```get_feature_names``` function."
   ]
  },
  {
   "cell_type": "code",
   "execution_count": 69,
   "id": "cheap-nursery",
   "metadata": {},
   "outputs": [
    {
     "data": {
      "text/html": [
       "<div>\n",
       "<style scoped>\n",
       "    .dataframe tbody tr th:only-of-type {\n",
       "        vertical-align: middle;\n",
       "    }\n",
       "\n",
       "    .dataframe tbody tr th {\n",
       "        vertical-align: top;\n",
       "    }\n",
       "\n",
       "    .dataframe thead th {\n",
       "        text-align: right;\n",
       "    }\n",
       "</style>\n",
       "<table border=\"1\" class=\"dataframe\">\n",
       "  <thead>\n",
       "    <tr style=\"text-align: right;\">\n",
       "      <th></th>\n",
       "      <th>class label</th>\n",
       "      <th>color=blue</th>\n",
       "      <th>color=green</th>\n",
       "      <th>color=red</th>\n",
       "      <th>price</th>\n",
       "      <th>size</th>\n",
       "    </tr>\n",
       "  </thead>\n",
       "  <tbody>\n",
       "    <tr>\n",
       "      <th>0</th>\n",
       "      <td>0.0</td>\n",
       "      <td>0.0</td>\n",
       "      <td>1.0</td>\n",
       "      <td>0.0</td>\n",
       "      <td>10.4</td>\n",
       "      <td>1.0</td>\n",
       "    </tr>\n",
       "    <tr>\n",
       "      <th>1</th>\n",
       "      <td>1.0</td>\n",
       "      <td>0.0</td>\n",
       "      <td>0.0</td>\n",
       "      <td>1.0</td>\n",
       "      <td>13.5</td>\n",
       "      <td>2.0</td>\n",
       "    </tr>\n",
       "    <tr>\n",
       "      <th>2</th>\n",
       "      <td>1.0</td>\n",
       "      <td>1.0</td>\n",
       "      <td>0.0</td>\n",
       "      <td>0.0</td>\n",
       "      <td>15.4</td>\n",
       "      <td>4.0</td>\n",
       "    </tr>\n",
       "  </tbody>\n",
       "</table>\n",
       "</div>"
      ],
      "text/plain": [
       "   class label  color=blue  color=green  color=red  price  size\n",
       "0          0.0         0.0          1.0        0.0   10.4   1.0\n",
       "1          1.0         0.0          0.0        1.0   13.5   2.0\n",
       "2          1.0         1.0          0.0        0.0   15.4   4.0"
      ]
     },
     "execution_count": 69,
     "metadata": {},
     "output_type": "execute_result"
    }
   ],
   "source": [
    "pd.DataFrame(X, columns=dvec.get_feature_names())"
   ]
  },
  {
   "cell_type": "code",
   "execution_count": 70,
   "id": "active-brain",
   "metadata": {},
   "outputs": [
    {
     "data": {
      "text/plain": [
       "['class label', 'color=blue', 'color=green', 'color=red', 'price', 'size']"
      ]
     },
     "execution_count": 70,
     "metadata": {},
     "output_type": "execute_result"
    }
   ],
   "source": [
    "dvec.get_feature_names()"
   ]
  },
  {
   "cell_type": "markdown",
   "id": "standing-boutique",
   "metadata": {},
   "source": [
    "##### scikit OneHotEncoder"
   ]
  },
  {
   "cell_type": "markdown",
   "id": "pregnant-moses",
   "metadata": {},
   "source": [
    "Another useful tool in scikit-learn is the ```OneHotEncoder```. The idea is the same as in the ```DictVectorizer``` above; the only difference is that the ```OneHotEncoder``` takes integer columns as input. Here we first use the ```LabelEncoder``` first to prepare the ```color``` column and then use the ```OneHotEncoder```."
   ]
  },
  {
   "cell_type": "code",
   "execution_count": 71,
   "id": "dirty-magnet",
   "metadata": {},
   "outputs": [
    {
     "data": {
      "text/html": [
       "<div>\n",
       "<style scoped>\n",
       "    .dataframe tbody tr th:only-of-type {\n",
       "        vertical-align: middle;\n",
       "    }\n",
       "\n",
       "    .dataframe tbody tr th {\n",
       "        vertical-align: top;\n",
       "    }\n",
       "\n",
       "    .dataframe thead th {\n",
       "        text-align: right;\n",
       "    }\n",
       "</style>\n",
       "<table border=\"1\" class=\"dataframe\">\n",
       "  <thead>\n",
       "    <tr style=\"text-align: right;\">\n",
       "      <th></th>\n",
       "      <th>color</th>\n",
       "      <th>size</th>\n",
       "      <th>price</th>\n",
       "      <th>class label</th>\n",
       "    </tr>\n",
       "  </thead>\n",
       "  <tbody>\n",
       "    <tr>\n",
       "      <th>0</th>\n",
       "      <td>1</td>\n",
       "      <td>1</td>\n",
       "      <td>10.4</td>\n",
       "      <td>0</td>\n",
       "    </tr>\n",
       "    <tr>\n",
       "      <th>1</th>\n",
       "      <td>2</td>\n",
       "      <td>2</td>\n",
       "      <td>13.5</td>\n",
       "      <td>1</td>\n",
       "    </tr>\n",
       "    <tr>\n",
       "      <th>2</th>\n",
       "      <td>0</td>\n",
       "      <td>4</td>\n",
       "      <td>15.4</td>\n",
       "      <td>1</td>\n",
       "    </tr>\n",
       "  </tbody>\n",
       "</table>\n",
       "</div>"
      ],
      "text/plain": [
       "   color  size  price  class label\n",
       "0      1     1   10.4            0\n",
       "1      2     2   13.5            1\n",
       "2      0     4   15.4            1"
      ]
     },
     "execution_count": 71,
     "metadata": {},
     "output_type": "execute_result"
    }
   ],
   "source": [
    "color_le = LabelEncoder()\n",
    "df['color'] = color_le.fit_transform(df['color'])\n",
    "\n",
    "df"
   ]
  },
  {
   "cell_type": "code",
   "execution_count": 76,
   "id": "detected-thesaurus",
   "metadata": {},
   "outputs": [
    {
     "data": {
      "text/plain": [
       "array([[0., 1., 0.],\n",
       "       [0., 0., 1.],\n",
       "       [1., 0., 0.]])"
      ]
     },
     "execution_count": 76,
     "metadata": {},
     "output_type": "execute_result"
    }
   ],
   "source": [
    "from sklearn.preprocessing import OneHotEncoder\n",
    "ohe = OneHotEncoder(sparse=False)\n",
    "\n",
    "X = ohe.fit_transform(df[[\"color\"]].values)\n",
    "X"
   ]
  },
  {
   "cell_type": "markdown",
   "id": "suited-scroll",
   "metadata": {},
   "source": [
    "#### pandas get_dummies"
   ]
  },
  {
   "cell_type": "markdown",
   "id": "generous-ottawa",
   "metadata": {},
   "source": [
    "Also, pandas comes with a convenience function to create new categories for nominal features, namely:\n",
    "```get_dummies```. But first, let us quickly regenerate a fresh example ```DataFrame``` where the size and class label columns are already taken care of."
   ]
  },
  {
   "cell_type": "code",
   "execution_count": 79,
   "id": "color-balloon",
   "metadata": {},
   "outputs": [
    {
     "data": {
      "text/html": [
       "<div>\n",
       "<style scoped>\n",
       "    .dataframe tbody tr th:only-of-type {\n",
       "        vertical-align: middle;\n",
       "    }\n",
       "\n",
       "    .dataframe tbody tr th {\n",
       "        vertical-align: top;\n",
       "    }\n",
       "\n",
       "    .dataframe thead th {\n",
       "        text-align: right;\n",
       "    }\n",
       "</style>\n",
       "<table border=\"1\" class=\"dataframe\">\n",
       "  <thead>\n",
       "    <tr style=\"text-align: right;\">\n",
       "      <th></th>\n",
       "      <th>color</th>\n",
       "      <th>size</th>\n",
       "      <th>prize</th>\n",
       "      <th>class label</th>\n",
       "    </tr>\n",
       "  </thead>\n",
       "  <tbody>\n",
       "    <tr>\n",
       "      <th>0</th>\n",
       "      <td>green</td>\n",
       "      <td>1</td>\n",
       "      <td>10.1</td>\n",
       "      <td>0</td>\n",
       "    </tr>\n",
       "    <tr>\n",
       "      <th>1</th>\n",
       "      <td>red</td>\n",
       "      <td>2</td>\n",
       "      <td>13.5</td>\n",
       "      <td>1</td>\n",
       "    </tr>\n",
       "    <tr>\n",
       "      <th>2</th>\n",
       "      <td>blue</td>\n",
       "      <td>3</td>\n",
       "      <td>15.8</td>\n",
       "      <td>0</td>\n",
       "    </tr>\n",
       "  </tbody>\n",
       "</table>\n",
       "</div>"
      ],
      "text/plain": [
       "   color  size  prize  class label\n",
       "0  green     1   10.1            0\n",
       "1    red     2   13.5            1\n",
       "2   blue     3   15.8            0"
      ]
     },
     "execution_count": 79,
     "metadata": {},
     "output_type": "execute_result"
    }
   ],
   "source": [
    "import pandas as pd\n",
    "df = pd.DataFrame([\n",
    "    [\"green\", \"M\", 10.1, \"class1\"],\n",
    "    [\"red\", \"L\", 13.5, \"class2\"],\n",
    "    [\"blue\", \"XL\", 15.8, \"class1\"]])\n",
    "\n",
    "df.columns = [\"color\", \"size\", \"prize\", \"class label\"]\n",
    "\n",
    "size_mapping = {\n",
    "    \"XL\": 3,\n",
    "    \"L\": 2,\n",
    "    \"M\": 1}\n",
    "\n",
    "df[\"size\"] = df[\"size\"].map(size_mapping)\n",
    "\n",
    "class_mapping = {label:idx for idx,label in enumerate(set(df[\"class label\"]))}\n",
    "df[\"class label\"] = df[\"class label\"].map(class_mapping)\n",
    "\n",
    "df"
   ]
  },
  {
   "cell_type": "markdown",
   "id": "interesting-contemporary",
   "metadata": {},
   "source": [
    "Uisng ```get_dummies``` will create a new column for every unique string in a certain column:"
   ]
  },
  {
   "cell_type": "code",
   "execution_count": 80,
   "id": "satellite-facility",
   "metadata": {},
   "outputs": [
    {
     "data": {
      "text/html": [
       "<div>\n",
       "<style scoped>\n",
       "    .dataframe tbody tr th:only-of-type {\n",
       "        vertical-align: middle;\n",
       "    }\n",
       "\n",
       "    .dataframe tbody tr th {\n",
       "        vertical-align: top;\n",
       "    }\n",
       "\n",
       "    .dataframe thead th {\n",
       "        text-align: right;\n",
       "    }\n",
       "</style>\n",
       "<table border=\"1\" class=\"dataframe\">\n",
       "  <thead>\n",
       "    <tr style=\"text-align: right;\">\n",
       "      <th></th>\n",
       "      <th>size</th>\n",
       "      <th>prize</th>\n",
       "      <th>class label</th>\n",
       "      <th>color_blue</th>\n",
       "      <th>color_green</th>\n",
       "      <th>color_red</th>\n",
       "    </tr>\n",
       "  </thead>\n",
       "  <tbody>\n",
       "    <tr>\n",
       "      <th>0</th>\n",
       "      <td>1</td>\n",
       "      <td>10.1</td>\n",
       "      <td>0</td>\n",
       "      <td>0</td>\n",
       "      <td>1</td>\n",
       "      <td>0</td>\n",
       "    </tr>\n",
       "    <tr>\n",
       "      <th>1</th>\n",
       "      <td>2</td>\n",
       "      <td>13.5</td>\n",
       "      <td>1</td>\n",
       "      <td>0</td>\n",
       "      <td>0</td>\n",
       "      <td>1</td>\n",
       "    </tr>\n",
       "    <tr>\n",
       "      <th>2</th>\n",
       "      <td>3</td>\n",
       "      <td>15.8</td>\n",
       "      <td>0</td>\n",
       "      <td>1</td>\n",
       "      <td>0</td>\n",
       "      <td>0</td>\n",
       "    </tr>\n",
       "  </tbody>\n",
       "</table>\n",
       "</div>"
      ],
      "text/plain": [
       "   size  prize  class label  color_blue  color_green  color_red\n",
       "0     1   10.1            0           0            1          0\n",
       "1     2   13.5            1           0            0          1\n",
       "2     3   15.8            0           1            0          0"
      ]
     },
     "execution_count": 80,
     "metadata": {},
     "output_type": "execute_result"
    }
   ],
   "source": [
    "pd.get_dummies(df)"
   ]
  },
  {
   "cell_type": "markdown",
   "id": "undefined-bulgaria",
   "metadata": {},
   "source": [
    "```get_dummies``` function leaves the numerical features untouched"
   ]
  },
  {
   "cell_type": "code",
   "execution_count": null,
   "id": "resistant-belarus",
   "metadata": {},
   "outputs": [],
   "source": []
  }
 ],
 "metadata": {
  "kernelspec": {
   "display_name": "Python 3",
   "language": "python",
   "name": "python3"
  },
  "language_info": {
   "codemirror_mode": {
    "name": "ipython",
    "version": 3
   },
   "file_extension": ".py",
   "mimetype": "text/x-python",
   "name": "python",
   "nbconvert_exporter": "python",
   "pygments_lexer": "ipython3",
   "version": "3.8.5"
  }
 },
 "nbformat": 4,
 "nbformat_minor": 5
}
