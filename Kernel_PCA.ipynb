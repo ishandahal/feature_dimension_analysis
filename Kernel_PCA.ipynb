{
  "nbformat": 4,
  "nbformat_minor": 0,
  "metadata": {
    "colab": {
      "name": "Kernel_PCA.ipynb",
      "provenance": [],
      "authorship_tag": "ABX9TyNgeR24yHYAzp4eqrM4uuYg",
      "include_colab_link": true
    },
    "kernelspec": {
      "name": "python3",
      "display_name": "Python 3"
    }
  },
  "cells": [
    {
      "cell_type": "markdown",
      "metadata": {
        "id": "view-in-github",
        "colab_type": "text"
      },
      "source": [
        "<a href=\"https://colab.research.google.com/github/ishandahal/feature_dimension_analysis/blob/main/Kernel_PCA.ipynb\" target=\"_parent\"><img src=\"https://colab.research.google.com/assets/colab-badge.svg\" alt=\"Open In Colab\"/></a>"
      ]
    },
    {
      "cell_type": "markdown",
      "metadata": {
        "id": "-4BvGG26DnLs"
      },
      "source": [
        "## Using Kernel Principal Component Analysis (KPCA) For non-linear mappings"
      ]
    },
    {
      "cell_type": "code",
      "metadata": {
        "id": "zneiOP69D2Hg"
      },
      "source": [
        "from scipy.spatial.distance import pdist, squareform\n",
        "from scipy.linalg import eigh\n",
        "import numpy as np\n",
        "\n",
        "from distutils.version import LooseVersion as Version\n",
        "from scipy import __version__ as scipy_version\n",
        "\n",
        "if scipy_version >= Version('1.4.1'):\n",
        "    from numpy import exp\n",
        "else:\n",
        "    from scipy import exp\n"
      ],
      "execution_count": null,
      "outputs": []
    },
    {
      "cell_type": "code",
      "metadata": {
        "id": "CS1oFxMMElxv"
      },
      "source": [
        "def rbf_kernel_pca(X, gamma, n_components):\n",
        "    \"\"\"\n",
        "    RBF kernel PCA implementation\n",
        "\n",
        "    Parameters\n",
        "    ----------\n",
        "    X: {NumPy ndarray}, shape = [n_examples, n_features]\n",
        "\n",
        "    gamma: float\n",
        "        Tunning parameter of the RBF kernel\n",
        "    \n",
        "    n_components: int\n",
        "        Number of principal components to return\n",
        "    \n",
        "    Returns\n",
        "    -----------\n",
        "    X_pc: {NumPy ndarray}, shape = [n_examples, k_features]\n",
        "        Projected dataset\n",
        "    \"\"\"\n",
        "    # Calculate pairwise squared Euclidean distances \n",
        "    # in the MxN dimensional dataset.\n",
        "    sq_dists = pdist(X, 'sqeuclidean')\n",
        "\n",
        "    # Convert pairwise distances into a square matrix.\n",
        "    mat_sq_dists = squareform(sq_dists)\n",
        "\n",
        "    # Compute the symmetric kermel matrix.\n",
        "    K = exp(-gamma * mat_sq_dists)\n",
        "\n",
        "    # Center the kernel matrix\n",
        "    N = K.shape[0]\n",
        "    one_n = np.ones((N, N)) / N\n",
        "    K = K - one_n.dot(K) - K.dot(one_n) + one_n.dot(K).dot(one_n)\n",
        "\n",
        "    ## Obtaining eigenpairs from the centered kernel matrix\n",
        "    ## scipy.linalg.eigh returns them in ascending order\n",
        "    eigvals, eigvecs = eigh(K)\n",
        "    eigvals, eigvecs = eigvals[::-1], eigvecs[:, ::-1]\n",
        "\n",
        "    # Collect the top k eigenvectors (projected examples)\n",
        "    X_pc = np.column_stack([eigvecs[:, i]]\n",
        "                           for i in range(n_components))\n",
        "    \n",
        "    return X_pc"
      ],
      "execution_count": null,
      "outputs": []
    },
    {
      "cell_type": "code",
      "metadata": {
        "id": "StY5S4z2H1hm",
        "colab": {
          "base_uri": "https://localhost:8080/",
          "height": 297
        },
        "outputId": "19f247b3-05e6-45a8-c2d3-d99675fc3357"
      },
      "source": [
        "## Seperating half-moon shapes \n",
        "import matplotlib.pyplot as plt\n",
        "from sklearn.datasets import make_moons\n",
        "\n",
        "X, y = make_moons(n_samples=100, random_state=123)\n",
        "\n",
        "plt.scatter(X[y == 0, 0], X[y == 0, 1], color='red', marker='^', alpha=0.5)\n",
        "plt.scatter(X[y == 1, 0], X[y == 1, 1], color='blue', marker='o', alpha=0.5)\n",
        "plt.tight_layout()\n",
        "plt.show()"
      ],
      "execution_count": null,
      "outputs": [
        {
          "output_type": "display_data",
          "data": {
            "image/png": "[encoded data removed]",
            "text/plain": [
              "<Figure size 432x288 with 1 Axes>"
            ]
          },
          "metadata": {
            "tags": [],
            "needs_background": "light"
          }
        }
      ]
    },
    {
      "cell_type": "code",
      "metadata": {
        "id": "gYvck4FdIlYe",
        "colab": {
          "base_uri": "https://localhost:8080/",
          "height": 225
        },
        "outputId": "722c699e-6088-4bfd-ca93-ff70af4cc707"
      },
      "source": [
        "## The dataset is not linearly seperable. \n",
        "## Let's see how the typical PCA does \n",
        "\n",
        "from sklearn.decomposition import PCA\n",
        "\n",
        "scikit_pca = PCA(n_components=2)\n",
        "X_spca = scikit_pca.fit_transform(X)\n",
        "\n",
        "fig, ax = plt.subplots(nrows=1, ncols=2, figsize=(7,3))\n",
        "\n",
        "ax[0].scatter(X_spca[y == 0, 0], X_spca[y == 0, 1],\n",
        "              color='red', marker='^', alpha=0.5)\n",
        "ax[0].scatter(X_spca[y == 1, 0], X_spca[y == 1, 1],\n",
        "              color='blue', marker='o', alpha=0.5)\n",
        "ax[1].scatter(X_spca[y == 0, 0], np.zeros((50,1)) + 0.02,\n",
        "              color='red', marker='^', alpha=0.5)\n",
        "ax[1].scatter(X_spca[y == 1, 0], np.zeros((50,1)) - 0.02,\n",
        "              color='blue', marker='o', alpha=0.5)\n",
        "ax[0].set_xlabel('PC1')\n",
        "ax[0].set_ylabel(\"PC2\")\n",
        "ax[1].set_ylim([-1, 1])\n",
        "ax[1].set_yticks([])\n",
        "ax[1].set_xlabel('PC1')\n",
        "\n",
        "plt.tight_layout()\n",
        "plt.show()"
      ],
      "execution_count": null,
      "outputs": [
        {
          "output_type": "display_data",
          "data": {
            "image/png": "[encoded data removed]",
            "text/plain": [
              "<Figure size 504x216 with 2 Axes>"
            ]
          },
          "metadata": {
            "tags": [],
            "needs_background": "light"
          }
        }
      ]
    },
    {
      "cell_type": "code",
      "metadata": {
        "id": "9FV7vQH5Kra1",
        "colab": {
          "base_uri": "https://localhost:8080/",
          "height": 54
        },
        "outputId": "8d59d5cb-d027-4bf3-8afe-d610ad602d4e"
      },
      "source": [
        "## Applying the kernel technique:\n",
        "\n",
        "X_kpca = rbf_kernel_pca(X, gamma=15, n_components=2)"
      ],
      "execution_count": null,
      "outputs": [
        {
          "output_type": "stream",
          "text": [
            "/usr/local/lib/python3.6/dist-packages/ipykernel_launcher.py:42: FutureWarning: arrays to stack must be passed as a \"sequence\" type such as list or tuple. Support for non-sequence iterables such as generators is deprecated as of NumPy 1.16 and will raise an error in the future.\n"
          ],
          "name": "stderr"
        }
      ]
    },
    {
      "cell_type": "code",
      "metadata": {
        "id": "sAwa49NdOXCY"
      },
      "source": [
        "fig, ax = plt.subplots(nrows=1, ncols=2, figsize=(7, 3))\n",
        "ax[0].scatter(X_kpca[y==0, 0], X_kpca[y==0, 1], \n",
        "            color='red', marker='^', alpha=0.5)\n",
        "ax[0].scatter(X_kpca[y==1, 0], X_kpca[y==1, 1],\n",
        "            color='blue', marker='o', alpha=0.5)\n",
        "\n",
        "ax[1].scatter(X_kpca[y==0, 0], np.zeros((50, 1))+0.02, \n",
        "            color='red', marker='^', alpha=0.5)\n",
        "ax[1].scatter(X_kpca[y==1, 0], np.zeros((50, 1))-0.02,\n",
        "            color='blue', marker='o', alpha=0.5)\n",
        "\n",
        "ax[0].set_xlabel('PC1')\n",
        "ax[0].set_ylabel('PC2')\n",
        "ax[1].set_ylim([-1, 1])\n",
        "ax[1].set_yticks([])\n",
        "ax[1].set_xlabel('PC1')\n",
        "\n",
        "plt.tight_layout()\n",
        "# plt.savefig('images/05_14.png', dpi=300)\n",
        "plt.show()"
      ],
      "execution_count": null,
      "outputs": []
    },
    {
      "cell_type": "code",
      "metadata": {
        "id": "jKkrZ52UOtBK"
      },
      "source": [
        "### Modifying the function (rbf_kernel)\n",
        "from scipy.spatial.distance import pdist, squareform\n",
        "from scipy import exp\n",
        "from scipy.linalg import eigh\n",
        "import numpy as np\n",
        "\n",
        "def rbf_kernel_pca(X, gamma, n_components):\n",
        "    \"\"\"\n",
        "    RBF kernel PCA implementation.\n",
        "\n",
        "    Parameters\n",
        "    ------------\n",
        "    X: {NumPy ndarray}, shape = [n_examples, n_features]\n",
        "        \n",
        "    gamma: float\n",
        "      Tuning parameter of the RBF kernel\n",
        "        \n",
        "    n_components: int\n",
        "      Number of principal components to return\n",
        "\n",
        "    Returns\n",
        "    ------------\n",
        "     alphas: {NumPy ndarray}, shape = [n_examples, k_features]\n",
        "       Projected dataset \n",
        "     \n",
        "     lambdas: list\n",
        "       Eigenvalues\n",
        "\n",
        "    \"\"\"\n",
        "    # Calculate pairwise squared Euclidean distances\n",
        "    # in the MxN dimensional dataset.\n",
        "    sq_dists = pdist(X, 'sqeuclidean')\n",
        "\n",
        "    # Convert pairwise distances into a square matrix.\n",
        "    mat_sq_dists = squareform(sq_dists)\n",
        "\n",
        "    # Compute the symmetric kernel matrix.\n",
        "    K = exp(-gamma * mat_sq_dists)\n",
        "\n",
        "    # Center the kernel matrix.\n",
        "    N = K.shape[0]\n",
        "    one_n = np.ones((N, N)) / N\n",
        "    K = K - one_n.dot(K) - K.dot(one_n) + one_n.dot(K).dot(one_n)\n",
        "\n",
        "    # Obtaining eigenpairs from the centered kernel matrix\n",
        "    # scipy.linalg.eigh returns them in ascending order\n",
        "    eigvals, eigvecs = eigh(K)\n",
        "    eigvals, eigvecs = eigvals[::-1], eigvecs[:, ::-1]\n",
        "\n",
        "    # Collect the top k eigenvectors (projected examples)\n",
        "    alphas = np.column_stack([eigvecs[:, i]\n",
        "                              for i in range(n_components)])\n",
        "\n",
        "    # Collect the corresponding eigenvalues\n",
        "    lambdas = [eigvals[i] for i in range(n_components)]\n",
        "\n",
        "    return alphas, lambdas"
      ],
      "execution_count": null,
      "outputs": []
    },
    {
      "cell_type": "code",
      "metadata": {
        "id": "JZxDyOtdRZQ4",
        "colab": {
          "base_uri": "https://localhost:8080/",
          "height": 54
        },
        "outputId": "adc3e15b-7639-4399-9278-58f3c5ba4d71"
      },
      "source": [
        "X, y = make_moons(n_samples=100, random_state=123)\n",
        "alphas, lambdas = rbf_kernel_pca(X, gamma=15, n_components=1)"
      ],
      "execution_count": null,
      "outputs": [
        {
          "output_type": "stream",
          "text": [
            "/usr/local/lib/python3.6/dist-packages/ipykernel_launcher.py:38: DeprecationWarning: scipy.exp is deprecated and will be removed in SciPy 2.0.0, use numpy.exp instead\n"
          ],
          "name": "stderr"
        }
      ]
    },
    {
      "cell_type": "code",
      "metadata": {
        "id": "HwxxoGm_RfaL",
        "colab": {
          "base_uri": "https://localhost:8080/",
          "height": 34
        },
        "outputId": "655abd9c-1379-41a7-ae41-79d235af805c"
      },
      "source": [
        "x_new = X[25]\n",
        "x_new"
      ],
      "execution_count": null,
      "outputs": [
        {
          "output_type": "execute_result",
          "data": {
            "text/plain": [
              "array([1.8713187 , 0.00928245])"
            ]
          },
          "metadata": {
            "tags": []
          },
          "execution_count": 42
        }
      ]
    },
    {
      "cell_type": "code",
      "metadata": {
        "id": "5cmi6vEbRkx9",
        "colab": {
          "base_uri": "https://localhost:8080/",
          "height": 34
        },
        "outputId": "16f7c625-f76a-43b7-e5ad-ad6e0875b133"
      },
      "source": [
        "x_proj = alphas[25] # original projection\n",
        "x_proj"
      ],
      "execution_count": null,
      "outputs": [
        {
          "output_type": "execute_result",
          "data": {
            "text/plain": [
              "array([0.07877284])"
            ]
          },
          "metadata": {
            "tags": []
          },
          "execution_count": 43
        }
      ]
    },
    {
      "cell_type": "code",
      "metadata": {
        "id": "AIwVQOJORnRr",
        "colab": {
          "base_uri": "https://localhost:8080/",
          "height": 34
        },
        "outputId": "7eaed3d2-0f64-47ae-c407-6a2360fd1c37"
      },
      "source": [
        "def project_x(x_new, X, gamma, alphas, lambdas):\n",
        "    pair_dist = np.array([np.sum((x_new - row)**2) for row in X])\n",
        "    k = np.exp(-gamma * pair_dist)\n",
        "    return k.dot(alphas / lambdas)\n",
        "\n",
        "# projection of the \"new\" datapoint\n",
        "x_reproj = project_x(x_new, X, gamma=15, alphas=alphas, lambdas=lambdas)\n",
        "x_reproj"
      ],
      "execution_count": null,
      "outputs": [
        {
          "output_type": "execute_result",
          "data": {
            "text/plain": [
              "array([0.07877284])"
            ]
          },
          "metadata": {
            "tags": []
          },
          "execution_count": 44
        }
      ]
    },
    {
      "cell_type": "code",
      "metadata": {
        "id": "o5vhsSjIRqXX",
        "colab": {
          "base_uri": "https://localhost:8080/",
          "height": 297
        },
        "outputId": "2e8b8b5a-8fca-4b6b-ba47-2b989beb645e"
      },
      "source": [
        "plt.scatter(alphas[y == 0, 0], np.zeros((50)),\n",
        "            color='red', marker='^', alpha=0.5)\n",
        "plt.scatter(alphas[y == 1, 0], np.zeros((50)),\n",
        "            color='blue', marker='o', alpha=0.5)\n",
        "plt.scatter(x_proj, 0, color='black',\n",
        "            label='Original projection of point X[25]', marker='^', s=100)\n",
        "plt.scatter(x_reproj, 0, color='green',\n",
        "            label='Remapped point X[25]', marker='x', s=500)\n",
        "plt.yticks([], [])\n",
        "plt.legend(scatterpoints=1)\n",
        "\n",
        "plt.tight_layout()\n",
        "# plt.savefig('images/05_18.png', dpi=300)\n",
        "plt.show()"
      ],
      "execution_count": null,
      "outputs": [
        {
          "output_type": "display_data",
          "data": {
            "image/png": "[encoded data removed]",
            "text/plain": [
              "<Figure size 432x288 with 1 Axes>"
            ]
          },
          "metadata": {
            "tags": [],
            "needs_background": "light"
          }
        }
      ]
    },
    {
      "cell_type": "code",
      "metadata": {
        "id": "2QoV0qwMRtKG",
        "colab": {
          "base_uri": "https://localhost:8080/",
          "height": 297
        },
        "outputId": "046ac451-094a-4268-f482-4350a93699fa"
      },
      "source": [
        "# Kernel PCA Using SKLearn\n",
        "\n",
        "from sklearn.decomposition import KernelPCA\n",
        "\n",
        "X, y = make_moons(n_samples=100, random_state=123)\n",
        "scikit_kpca = KernelPCA(n_components=2, kernel='rbf', gamma=15)\n",
        "X_sklearnpca = scikit_kpca.fit_transform(X)\n",
        "\n",
        "plt.scatter(X_sklearnpca[y == 0, 0],  X_sklearnpca[y == 0, 1],\n",
        "            color='red', marker='^', alpha=0.5)\n",
        "plt.scatter(X_sklearnpca[y == 1, 0], X_sklearnpca[y == 1, 1],\n",
        "            color='blue', marker='o', alpha=0.5)\n",
        "plt.xlabel('PC1')\n",
        "plt.ylabel('PC2')\n",
        "plt.tight_layout()\n",
        "plt.show()"
      ],
      "execution_count": null,
      "outputs": [
        {
          "output_type": "display_data",
          "data": {
            "image/png": "[encoded data removed]",
            "text/plain": [
              "<Figure size 432x288 with 1 Axes>"
            ]
          },
          "metadata": {
            "tags": [],
            "needs_background": "light"
          }
        }
      ]
    }
  ]
}