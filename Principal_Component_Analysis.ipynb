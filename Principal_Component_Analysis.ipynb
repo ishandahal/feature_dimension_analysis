{
  "nbformat": 4,
  "nbformat_minor": 0,
  "metadata": {
    "colab": {
      "name": "Principal Component Analysis.ipynb",
      "provenance": [],
      "authorship_tag": "ABX9TyPvo3XypWkYHclIF+JVxt/F",
      "include_colab_link": true
    },
    "kernelspec": {
      "name": "python3",
      "display_name": "Python 3"
    }
  },
  "cells": [
    {
      "cell_type": "markdown",
      "metadata": {
        "id": "view-in-github",
        "colab_type": "text"
      },
      "source": [
        "<a href=\"https://colab.research.google.com/github/ishandahal/feature_dimension_analysis/blob/main/Principal_Component_Analysis.ipynb\" target=\"_parent\"><img src=\"https://colab.research.google.com/assets/colab-badge.svg\" alt=\"Open In Colab\"/></a>"
      ]
    },
    {
      "cell_type": "markdown",
      "metadata": {
        "id": "7SiTQYnIYK4_"
      },
      "source": [
        "##Principal Component Analysis:\n",
        "- Implementing with numpy\n",
        "- Contrasting with SKLearn"
      ]
    },
    {
      "cell_type": "code",
      "metadata": {
        "id": "l1QL6wnmR2GW"
      },
      "source": [
        "import pandas as pd"
      ],
      "execution_count": null,
      "outputs": []
    },
    {
      "cell_type": "markdown",
      "metadata": {
        "id": "AyOOGYhgYdm8"
      },
      "source": [
        "## Famous Iris dataset"
      ]
    },
    {
      "cell_type": "code",
      "metadata": {
        "id": "Fp9Sjh6UZe6P",
        "colab": {
          "base_uri": "https://localhost:8080/",
          "height": 206
        },
        "outputId": "a29188c3-d5b4-4b84-d88e-fdf72d97cc24"
      },
      "source": [
        "## Getting the dataset from the URL\n",
        "df = pd.read_csv(filepath_or_buffer=\"https://archive.ics.uci.edu/ml/machine-learning-databases/iris/iris.data\",\n",
        "                 header=None)\n",
        "\n",
        "df.head()"
      ],
      "execution_count": null,
      "outputs": [
        {
          "output_type": "execute_result",
          "data": {
            "text/html": [
              "<div>\n",
              "<style scoped>\n",
              "    .dataframe tbody tr th:only-of-type {\n",
              "        vertical-align: middle;\n",
              "    }\n",
              "\n",
              "    .dataframe tbody tr th {\n",
              "        vertical-align: top;\n",
              "    }\n",
              "\n",
              "    .dataframe thead th {\n",
              "        text-align: right;\n",
              "    }\n",
              "</style>\n",
              "<table border=\"1\" class=\"dataframe\">\n",
              "  <thead>\n",
              "    <tr style=\"text-align: right;\">\n",
              "      <th></th>\n",
              "      <th>0</th>\n",
              "      <th>1</th>\n",
              "      <th>2</th>\n",
              "      <th>3</th>\n",
              "      <th>4</th>\n",
              "    </tr>\n",
              "  </thead>\n",
              "  <tbody>\n",
              "    <tr>\n",
              "      <th>0</th>\n",
              "      <td>5.1</td>\n",
              "      <td>3.5</td>\n",
              "      <td>1.4</td>\n",
              "      <td>0.2</td>\n",
              "      <td>Iris-setosa</td>\n",
              "    </tr>\n",
              "    <tr>\n",
              "      <th>1</th>\n",
              "      <td>4.9</td>\n",
              "      <td>3.0</td>\n",
              "      <td>1.4</td>\n",
              "      <td>0.2</td>\n",
              "      <td>Iris-setosa</td>\n",
              "    </tr>\n",
              "    <tr>\n",
              "      <th>2</th>\n",
              "      <td>4.7</td>\n",
              "      <td>3.2</td>\n",
              "      <td>1.3</td>\n",
              "      <td>0.2</td>\n",
              "      <td>Iris-setosa</td>\n",
              "    </tr>\n",
              "    <tr>\n",
              "      <th>3</th>\n",
              "      <td>4.6</td>\n",
              "      <td>3.1</td>\n",
              "      <td>1.5</td>\n",
              "      <td>0.2</td>\n",
              "      <td>Iris-setosa</td>\n",
              "    </tr>\n",
              "    <tr>\n",
              "      <th>4</th>\n",
              "      <td>5.0</td>\n",
              "      <td>3.6</td>\n",
              "      <td>1.4</td>\n",
              "      <td>0.2</td>\n",
              "      <td>Iris-setosa</td>\n",
              "    </tr>\n",
              "  </tbody>\n",
              "</table>\n",
              "</div>"
            ],
            "text/plain": [
              "     0    1    2    3            4\n",
              "0  5.1  3.5  1.4  0.2  Iris-setosa\n",
              "1  4.9  3.0  1.4  0.2  Iris-setosa\n",
              "2  4.7  3.2  1.3  0.2  Iris-setosa\n",
              "3  4.6  3.1  1.5  0.2  Iris-setosa\n",
              "4  5.0  3.6  1.4  0.2  Iris-setosa"
            ]
          },
          "metadata": {
            "tags": []
          },
          "execution_count": 2
        }
      ]
    },
    {
      "cell_type": "code",
      "metadata": {
        "id": "NyNCVZZ7Z81C",
        "colab": {
          "base_uri": "https://localhost:8080/",
          "height": 206
        },
        "outputId": "da0bbedf-1f0f-45d7-df1b-843ceaae2110"
      },
      "source": [
        "### Assigning column names\n",
        "df.columns = [\"sepal_len\", \"sepal_wid\", \"petal_len\", \"petal_wid\", \"class\"]\n",
        "df.head()"
      ],
      "execution_count": null,
      "outputs": [
        {
          "output_type": "execute_result",
          "data": {
            "text/html": [
              "<div>\n",
              "<style scoped>\n",
              "    .dataframe tbody tr th:only-of-type {\n",
              "        vertical-align: middle;\n",
              "    }\n",
              "\n",
              "    .dataframe tbody tr th {\n",
              "        vertical-align: top;\n",
              "    }\n",
              "\n",
              "    .dataframe thead th {\n",
              "        text-align: right;\n",
              "    }\n",
              "</style>\n",
              "<table border=\"1\" class=\"dataframe\">\n",
              "  <thead>\n",
              "    <tr style=\"text-align: right;\">\n",
              "      <th></th>\n",
              "      <th>sepal_len</th>\n",
              "      <th>sepal_wid</th>\n",
              "      <th>petal_len</th>\n",
              "      <th>petal_wid</th>\n",
              "      <th>class</th>\n",
              "    </tr>\n",
              "  </thead>\n",
              "  <tbody>\n",
              "    <tr>\n",
              "      <th>0</th>\n",
              "      <td>5.1</td>\n",
              "      <td>3.5</td>\n",
              "      <td>1.4</td>\n",
              "      <td>0.2</td>\n",
              "      <td>Iris-setosa</td>\n",
              "    </tr>\n",
              "    <tr>\n",
              "      <th>1</th>\n",
              "      <td>4.9</td>\n",
              "      <td>3.0</td>\n",
              "      <td>1.4</td>\n",
              "      <td>0.2</td>\n",
              "      <td>Iris-setosa</td>\n",
              "    </tr>\n",
              "    <tr>\n",
              "      <th>2</th>\n",
              "      <td>4.7</td>\n",
              "      <td>3.2</td>\n",
              "      <td>1.3</td>\n",
              "      <td>0.2</td>\n",
              "      <td>Iris-setosa</td>\n",
              "    </tr>\n",
              "    <tr>\n",
              "      <th>3</th>\n",
              "      <td>4.6</td>\n",
              "      <td>3.1</td>\n",
              "      <td>1.5</td>\n",
              "      <td>0.2</td>\n",
              "      <td>Iris-setosa</td>\n",
              "    </tr>\n",
              "    <tr>\n",
              "      <th>4</th>\n",
              "      <td>5.0</td>\n",
              "      <td>3.6</td>\n",
              "      <td>1.4</td>\n",
              "      <td>0.2</td>\n",
              "      <td>Iris-setosa</td>\n",
              "    </tr>\n",
              "  </tbody>\n",
              "</table>\n",
              "</div>"
            ],
            "text/plain": [
              "   sepal_len  sepal_wid  petal_len  petal_wid        class\n",
              "0        5.1        3.5        1.4        0.2  Iris-setosa\n",
              "1        4.9        3.0        1.4        0.2  Iris-setosa\n",
              "2        4.7        3.2        1.3        0.2  Iris-setosa\n",
              "3        4.6        3.1        1.5        0.2  Iris-setosa\n",
              "4        5.0        3.6        1.4        0.2  Iris-setosa"
            ]
          },
          "metadata": {
            "tags": []
          },
          "execution_count": 3
        }
      ]
    },
    {
      "cell_type": "code",
      "metadata": {
        "id": "Yvplzzb_abJm",
        "colab": {
          "base_uri": "https://localhost:8080/",
          "height": 34
        },
        "outputId": "43e40f0c-3be3-4f40-80f7-b2ab1faf662b"
      },
      "source": [
        "### Separating features and labels\n",
        "X = df.loc[:,'sepal_len':'petal_wid']\n",
        "y = df.loc[:,'class']\n",
        "X.shape, y.shape"
      ],
      "execution_count": null,
      "outputs": [
        {
          "output_type": "execute_result",
          "data": {
            "text/plain": [
              "((150, 4), (150,))"
            ]
          },
          "metadata": {
            "tags": []
          },
          "execution_count": 4
        }
      ]
    },
    {
      "cell_type": "code",
      "metadata": {
        "id": "LnJrG3GknKwN"
      },
      "source": [
        "from matplotlib import pyplot as plt\n",
        "import numpy as np\n",
        "import math\n",
        "\n",
        "label_dict = {1: 'Iris-Setosa',\n",
        "              2: 'Iris-Versicolor',\n",
        "              3: 'Iris-Virgnica'}\n",
        "\n",
        "feature_dict = {0: 'sepal length [cm]',\n",
        "                1: 'sepal width [cm]',\n",
        "                2: 'petal length [cm]',\n",
        "                3: 'petal width [cm]'}\n",
        "\n",
        "with plt.style.context('seaborn-whitegrid'):\n",
        "    plt.figure(figsize=(8, 6))\n",
        "    for cnt in range(4):\n",
        "        plt.subplot(2, 2, cnt+1)\n",
        "        for lab in ('Iris-setosa', 'Iris-versicolor', 'Iris-virginica'):\n",
        "            plt.hist(X[y==lab, cnt],\n",
        "                     label=lab,\n",
        "                     bins=10,\n",
        "                     alpha=0.3,)\n",
        "        plt.xlabel(feature_dict[cnt])\n",
        "    plt.legend(loc='upper right', fancybox=True, fontsize=8)\n",
        "\n",
        "    plt.tight_layout()\n",
        "    plt.show()\n"
      ],
      "execution_count": null,
      "outputs": []
    },
    {
      "cell_type": "markdown",
      "metadata": {
        "id": "eR3oAh_kd5bF"
      },
      "source": [
        "###Standardize the data.\n",
        "- Subtract the mean and divide by the standard deviation\n",
        "- Using SKLearn to do that "
      ]
    },
    {
      "cell_type": "code",
      "metadata": {
        "id": "tHQDNS1odfxI",
        "colab": {
          "base_uri": "https://localhost:8080/",
          "height": 104
        },
        "outputId": "dec277a1-d658-4a58-edb1-36c170b1e060"
      },
      "source": [
        "from sklearn.preprocessing import StandardScaler\n",
        "X_std = StandardScaler().fit_transform(X)\n",
        "X_std[:5]"
      ],
      "execution_count": null,
      "outputs": [
        {
          "output_type": "execute_result",
          "data": {
            "text/plain": [
              "array([[-0.90068117,  1.03205722, -1.3412724 , -1.31297673],\n",
              "       [-1.14301691, -0.1249576 , -1.3412724 , -1.31297673],\n",
              "       [-1.38535265,  0.33784833, -1.39813811, -1.31297673],\n",
              "       [-1.50652052,  0.10644536, -1.2844067 , -1.31297673],\n",
              "       [-1.02184904,  1.26346019, -1.3412724 , -1.31297673]])"
            ]
          },
          "metadata": {
            "tags": []
          },
          "execution_count": 19
        }
      ]
    },
    {
      "cell_type": "code",
      "metadata": {
        "id": "AAMj5Do7edr5",
        "colab": {
          "base_uri": "https://localhost:8080/",
          "height": 104
        },
        "outputId": "fc666efd-84e0-4592-ce4e-60f222f387b7"
      },
      "source": [
        "## Constructing a covariance matrix\n",
        "## Subtracting the feature mean \n",
        "## dot product with it's tranpose and divide by no of samples -1.\n",
        "import numpy as np\n",
        "\n",
        "mean_vec = X_std.mean(axis=0)\n",
        "cov_mat = (X_std - mean_vec).T.dot(X_std - mean_vec) / (X_std.shape[0] - 1)\n",
        "print(f\"Covariance matrix\\n{cov_mat}\")"
      ],
      "execution_count": null,
      "outputs": [
        {
          "output_type": "stream",
          "text": [
            "Covariance matrix\n",
            "[[ 1.00671141 -0.11010327  0.87760486  0.82344326]\n",
            " [-0.11010327  1.00671141 -0.42333835 -0.358937  ]\n",
            " [ 0.87760486 -0.42333835  1.00671141  0.96921855]\n",
            " [ 0.82344326 -0.358937    0.96921855  1.00671141]]\n"
          ],
          "name": "stdout"
        }
      ]
    },
    {
      "cell_type": "code",
      "metadata": {
        "id": "g0_1sJ6qjNvO",
        "colab": {
          "base_uri": "https://localhost:8080/",
          "height": 104
        },
        "outputId": "418a93e6-f462-44fb-e129-c180f71848ce"
      },
      "source": [
        "### Let's check to see if we get the same covariance matrix with numpy\n",
        "numpy_covmat = np.cov(X_std.T)\n",
        "print(f\"Numpy Covariance Matrix\\n {numpy_covmat}\")"
      ],
      "execution_count": null,
      "outputs": [
        {
          "output_type": "stream",
          "text": [
            "Numpy Covariance Matrix\n",
            " [[ 1.00671141 -0.11010327  0.87760486  0.82344326]\n",
            " [-0.11010327  1.00671141 -0.42333835 -0.358937  ]\n",
            " [ 0.87760486 -0.42333835  1.00671141  0.96921855]\n",
            " [ 0.82344326 -0.358937    0.96921855  1.00671141]]\n"
          ],
          "name": "stdout"
        }
      ]
    },
    {
      "cell_type": "code",
      "metadata": {
        "id": "OKpN4U8XiYWv",
        "colab": {
          "base_uri": "https://localhost:8080/",
          "height": 156
        },
        "outputId": "55f0a6d6-d7b9-444d-ada6-9c5b61667f59"
      },
      "source": [
        "### Calculating the Eigenvalues and Eigenvectors\n",
        "eig_vals, eig_vecs = np.linalg.eig(cov_mat)\n",
        "print(f\"Eigenvalues\\n{eig_vals}\")\n",
        "print()\n",
        "print(f\"Eigenvectors\\n{eig_vecs}\")"
      ],
      "execution_count": null,
      "outputs": [
        {
          "output_type": "stream",
          "text": [
            "Eigenvalues\n",
            "[2.93035378 0.92740362 0.14834223 0.02074601]\n",
            "\n",
            "Eigenvectors\n",
            "[[ 0.52237162 -0.37231836 -0.72101681  0.26199559]\n",
            " [-0.26335492 -0.92555649  0.24203288 -0.12413481]\n",
            " [ 0.58125401 -0.02109478  0.14089226 -0.80115427]\n",
            " [ 0.56561105 -0.06541577  0.6338014   0.52354627]]\n"
          ],
          "name": "stdout"
        }
      ]
    },
    {
      "cell_type": "code",
      "metadata": {
        "id": "bc2hHINkkGk2",
        "colab": {
          "base_uri": "https://localhost:8080/",
          "height": 156
        },
        "outputId": "35422f9f-a43f-417d-8d38-cb5f0af8d924"
      },
      "source": [
        "### Calculating the Eigenvalues and Eigenvectors with correlation matrix\n",
        "### Corelation Matrix is understood as the normalized covariance matrix\n",
        "### Using Standardized covariance matrix should result in identical values \n",
        "\n",
        "cor_mat = np.corrcoef(X_std.T)\n",
        "\n",
        "eig_vals, eig_vecs = np.linalg.eig(cor_mat)\n",
        "\n",
        "print(f\"Eigenvalues\\n {eig_vals}\")\n",
        "print()\n",
        "print(f\"Eigenvectors\\n{eig_vecs}\")"
      ],
      "execution_count": null,
      "outputs": [
        {
          "output_type": "stream",
          "text": [
            "Eigenvalues\n",
            " [2.91081808 0.92122093 0.14735328 0.02060771]\n",
            "\n",
            "Eigenvectors\n",
            "[[ 0.52237162 -0.37231836 -0.72101681  0.26199559]\n",
            " [-0.26335492 -0.92555649  0.24203288 -0.12413481]\n",
            " [ 0.58125401 -0.02109478  0.14089226 -0.80115427]\n",
            " [ 0.56561105 -0.06541577  0.6338014   0.52354627]]\n"
          ],
          "name": "stdout"
        }
      ]
    },
    {
      "cell_type": "code",
      "metadata": {
        "id": "hhPlgTd5liIk",
        "colab": {
          "base_uri": "https://localhost:8080/",
          "height": 156
        },
        "outputId": "6625bb90-1907-4bd8-e0d5-9b2c8e724474"
      },
      "source": [
        "### Let's double check this by using non-standardized data \n",
        "\n",
        "cor_mat2 = np.corrcoef(X.T)\n",
        "\n",
        "eig_vals, eig_vecs = np.linalg.eig(cor_mat2)\n",
        "\n",
        "print(f\"Eigenvalues\\n {eig_vals}\")\n",
        "print()\n",
        "print(f\"Eigenvectors\\n {eig_vecs}\")"
      ],
      "execution_count": null,
      "outputs": [
        {
          "output_type": "stream",
          "text": [
            "Eigenvalues\n",
            " [2.91081808 0.92122093 0.14735328 0.02060771]\n",
            "\n",
            "Eigenvectors\n",
            " [[ 0.52237162 -0.37231836 -0.72101681  0.26199559]\n",
            " [-0.26335492 -0.92555649  0.24203288 -0.12413481]\n",
            " [ 0.58125401 -0.02109478  0.14089226 -0.80115427]\n",
            " [ 0.56561105 -0.06541577  0.6338014   0.52354627]]\n"
          ],
          "name": "stdout"
        }
      ]
    },
    {
      "cell_type": "code",
      "metadata": {
        "id": "ZxkBdkGhmgzw",
        "colab": {
          "base_uri": "https://localhost:8080/",
          "height": 86
        },
        "outputId": "768b1d93-2a81-4b9c-9bbe-4686b1d80421"
      },
      "source": [
        "## Using Singular Value Decomposition to find the vectors\n",
        "u, s, v = np.linalg.svd(X_std.T)\n",
        "u"
      ],
      "execution_count": null,
      "outputs": [
        {
          "output_type": "execute_result",
          "data": {
            "text/plain": [
              "array([[-0.52237162, -0.37231836,  0.72101681,  0.26199559],\n",
              "       [ 0.26335492, -0.92555649, -0.24203288, -0.12413481],\n",
              "       [-0.58125401, -0.02109478, -0.14089226, -0.80115427],\n",
              "       [-0.56561105, -0.06541577, -0.6338014 ,  0.52354627]])"
            ]
          },
          "metadata": {
            "tags": []
          },
          "execution_count": 50
        }
      ]
    },
    {
      "cell_type": "markdown",
      "metadata": {
        "id": "R58v5DEYntg3"
      },
      "source": [
        "###Now that we have seen multiple ways of calculating Eigen numbers \n",
        "### Let's sort them and pick the eigen vectors we want to use.\n",
        "- First we will arrange the eigen vectors in descending order based on eigen values.\n",
        "- Eigenvectors with lowest eigenvalues carry least amount of information about the distribution of the data "
      ]
    },
    {
      "cell_type": "code",
      "metadata": {
        "id": "L2YoMy4Aq7p_",
        "colab": {
          "base_uri": "https://localhost:8080/",
          "height": 156
        },
        "outputId": "5fdfc001-fc21-4bb5-f6db-970147f4e0fb"
      },
      "source": [
        "eigen_pairs = [(np.abs(eig_vals[i]),eig_vecs[:,i]) for i in range(len(eig_vals))]\n",
        "eigen_pairs.sort(key=lambda x: x[0], reverse=True)\n",
        "eigen_pairs"
      ],
      "execution_count": null,
      "outputs": [
        {
          "output_type": "execute_result",
          "data": {
            "text/plain": [
              "[(2.9108180837520528,\n",
              "  array([ 0.52237162, -0.26335492,  0.58125401,  0.56561105])),\n",
              " (0.9212209307072254,\n",
              "  array([-0.37231836, -0.92555649, -0.02109478, -0.06541577])),\n",
              " (0.1473532783050958,\n",
              "  array([-0.72101681,  0.24203288,  0.14089226,  0.6338014 ])),\n",
              " (0.020607707235624842,\n",
              "  array([ 0.26199559, -0.12413481, -0.80115427,  0.52354627]))]"
            ]
          },
          "metadata": {
            "tags": []
          },
          "execution_count": 63
        }
      ]
    },
    {
      "cell_type": "code",
      "metadata": {
        "id": "MnuzyuQvrbub",
        "colab": {
          "base_uri": "https://localhost:8080/",
          "height": 104
        },
        "outputId": "d4b444c2-e8fb-44f4-ec12-67adefe28265"
      },
      "source": [
        "###Let's print the EigenValues.\n",
        "print('Eigenvalues in descending order')\n",
        "for i in eigen_pairs:\n",
        "    print(f\"{i[0]}\")"
      ],
      "execution_count": null,
      "outputs": [
        {
          "output_type": "stream",
          "text": [
            "Eigenvalues in descending order\n",
            "2.9108180837520528\n",
            "0.9212209307072254\n",
            "0.1473532783050958\n",
            "0.020607707235624842\n"
          ],
          "name": "stdout"
        }
      ]
    },
    {
      "cell_type": "code",
      "metadata": {
        "id": "riiVs33RJ6nr",
        "colab": {
          "base_uri": "https://localhost:8080/",
          "height": 173
        },
        "outputId": "496919be-4c4c-432c-ef70-4f76d04404ad"
      },
      "source": [
        "print(f\"Eigenpairs\")\n",
        "for _ in eigen_pairs:\n",
        "    print(f\"{_}\\n\")"
      ],
      "execution_count": null,
      "outputs": [
        {
          "output_type": "stream",
          "text": [
            "Eigenpairs\n",
            "(2.9108180837520528, array([ 0.52237162, -0.26335492,  0.58125401,  0.56561105]))\n",
            "\n",
            "(0.9212209307072254, array([-0.37231836, -0.92555649, -0.02109478, -0.06541577]))\n",
            "\n",
            "(0.1473532783050958, array([-0.72101681,  0.24203288,  0.14089226,  0.6338014 ]))\n",
            "\n",
            "(0.020607707235624842, array([ 0.26199559, -0.12413481, -0.80115427,  0.52354627]))\n",
            "\n"
          ],
          "name": "stdout"
        }
      ]
    },
    {
      "cell_type": "code",
      "metadata": {
        "id": "QGqSB3juLETC"
      },
      "source": [
        "## Variance explained\n",
        "tot = sum(eig_vals)\n",
        "var_exp = [(i / tot) * 100 for i in eig_vals]\n",
        "cum_var_exp = np.cumsum(var_exp)"
      ],
      "execution_count": null,
      "outputs": []
    },
    {
      "cell_type": "code",
      "metadata": {
        "id": "nQe8bFFPa9lG",
        "colab": {
          "base_uri": "https://localhost:8080/",
          "height": 104
        },
        "outputId": "ef96c583-3242-4d8f-842c-239a4d15aa1a"
      },
      "source": [
        "print('Percent Variance explained by each component')\n",
        "for i in var_exp:\n",
        "    print(round(i,2))"
      ],
      "execution_count": null,
      "outputs": [
        {
          "output_type": "stream",
          "text": [
            "Percent Variance explained by each component\n",
            "72.77\n",
            "23.03\n",
            "3.68\n",
            "0.52\n"
          ],
          "name": "stdout"
        }
      ]
    },
    {
      "cell_type": "markdown",
      "metadata": {
        "id": "ua3BFA-IbhD7"
      },
      "source": [
        "### We can see from the plot below that the first two \n",
        "### components explain significant amount (~96%) of \n",
        "### variance and the last two components could be dropped with minimal loss of information."
      ]
    },
    {
      "cell_type": "code",
      "metadata": {
        "id": "UKpQL_70MRk6",
        "colab": {
          "base_uri": "https://localhost:8080/",
          "height": 297
        },
        "outputId": "3a7ab242-5ec7-4f4f-b940-dd3813f2437b"
      },
      "source": [
        "import matplotlib.pyplot as plt\n",
        "\n",
        "with plt.style.context('seaborn-whitegrid'):\n",
        "    plt.figure(figsize=(6,4))\n",
        "\n",
        "    plt.bar(range(4), var_exp, alpha=0.5, align='center',\n",
        "            label='individual variance explained')\n",
        "    plt.step(range(4), cum_var_exp, where='mid',\n",
        "             label='cumulative explained variance')\n",
        "    plt.ylabel('Explained variance ratio')\n",
        "    plt.xlabel('Principal components')\n",
        "    plt.legend(loc='best')\n",
        "    plt.tight_layout()"
      ],
      "execution_count": null,
      "outputs": [
        {
          "output_type": "display_data",
          "data": {
            "image/png": "[encoded data removed]",
            "text/plain": [
              "<Figure size 432x288 with 1 Axes>"
            ]
          },
          "metadata": {
            "tags": []
          }
        }
      ]
    },
    {
      "cell_type": "markdown",
      "metadata": {
        "id": "6dJWN5cYbfEi"
      },
      "source": [
        "### Creating a projection matrix\n",
        "- Concatenate the eigenvectors to create the projection matrix.\n",
        "- Project the original 4 dimensional feature space to a 2 dimensional subspace by selecting the top 2 eigenvectors with the highest eigenvalues \n"
      ]
    },
    {
      "cell_type": "code",
      "metadata": {
        "id": "IXHrcKljdAdw",
        "colab": {
          "base_uri": "https://localhost:8080/",
          "height": 104
        },
        "outputId": "50d62768-bf4e-4d41-89f1-7434093a6f00"
      },
      "source": [
        "# W is the projection matrix\n",
        "W = np.hstack((eigen_pairs[0][1].reshape(4,1), \n",
        "               eigen_pairs[1][1].reshape(4,1)))\n",
        "\n",
        "print(f\"Projection matrix\\n {W}\")"
      ],
      "execution_count": null,
      "outputs": [
        {
          "output_type": "stream",
          "text": [
            "Projection matrix\n",
            " [[ 0.52237162 -0.37231836]\n",
            " [-0.26335492 -0.92555649]\n",
            " [ 0.58125401 -0.02109478]\n",
            " [ 0.56561105 -0.06541577]]\n"
          ],
          "name": "stdout"
        }
      ]
    },
    {
      "cell_type": "code",
      "metadata": {
        "id": "AVPYZi8jeyvE",
        "colab": {
          "base_uri": "https://localhost:8080/",
          "height": 34
        },
        "outputId": "67a3e12c-535a-410a-85de-709f5c963043"
      },
      "source": [
        "# Projecting the standardized 150X4 dimensional data with 4X2 dimensional \n",
        "# prejection matrix creating a 150X2 dimensional feature subspace \n",
        "Y = X_std.dot(W)\n",
        "Y.shape"
      ],
      "execution_count": null,
      "outputs": [
        {
          "output_type": "execute_result",
          "data": {
            "text/plain": [
              "(150, 2)"
            ]
          },
          "metadata": {
            "tags": []
          },
          "execution_count": 106
        }
      ]
    },
    {
      "cell_type": "code",
      "metadata": {
        "id": "Z8c2hqapfm23",
        "colab": {
          "base_uri": "https://localhost:8080/",
          "height": 297
        },
        "outputId": "362b7ae0-1f4c-4df9-ab81-d2d98fa939c1"
      },
      "source": [
        "## Let's plot and see what it looks like \n",
        "with plt.style.context('seaborn-whitegrid'):\n",
        "    plt.figure(figsize=(6,4))\n",
        "    for label, color in zip(('Iris-setosa', 'Iris-versicolor', 'Iris-virginica'),\n",
        "                            ('blue', 'red', 'green')):\n",
        "        plt.scatter(Y[y==label, 0],\n",
        "                    Y[y==label, 1],\n",
        "                    label=label,\n",
        "                    c=color)\n",
        "    plt.xlabel('Principal Component 1')\n",
        "    plt.ylabel('Principal Component 2')\n",
        "    plt.legend(loc='lower center')\n",
        "    plt.tight_layout()\n",
        "    plt.show()"
      ],
      "execution_count": null,
      "outputs": [
        {
          "output_type": "display_data",
          "data": {
            "image/png": "[encoded data removed]",
            "text/plain": [
              "<Figure size 432x288 with 1 Axes>"
            ]
          },
          "metadata": {
            "tags": []
          }
        }
      ]
    },
    {
      "cell_type": "markdown",
      "metadata": {
        "id": "fm866GmbhV90"
      },
      "source": [
        "###Using SKLearn for PCA"
      ]
    },
    {
      "cell_type": "code",
      "metadata": {
        "id": "3yiXzcpPhett"
      },
      "source": [
        "from sklearn.decomposition import PCA as sklearnPCA\n",
        "sklearn_pca = sklearnPCA(n_components=2)\n",
        "Y_sklearn = sklearn_pca.fit_transform(X_std)"
      ],
      "execution_count": null,
      "outputs": []
    },
    {
      "cell_type": "code",
      "metadata": {
        "id": "alEUm08KiFIj",
        "colab": {
          "base_uri": "https://localhost:8080/",
          "height": 297
        },
        "outputId": "fc391cb2-4882-4113-dbbd-121f9a9ef191"
      },
      "source": [
        "### Plotting the result\n",
        "with plt.style.context('seaborn-whitegrid'):\n",
        "    plt.figure(figsize=(6,4))\n",
        "    for label, color in zip((\"Iris-setosa\", 'Iris-versicolor', 'Iris-virginica'),\n",
        "                            ('blue', 'red', 'green')):\n",
        "        plt.scatter(Y_sklearn[y==label,0],\n",
        "                    Y_sklearn[y==label,1],\n",
        "                    label=label,\n",
        "                    c=color)\n",
        "    plt.xlabel('Principal Component 1')\n",
        "    plt.ylabel('Principal Component 1')\n",
        "    plt.legend(loc=\"upper center\")\n",
        "    plt.tight_layout()\n",
        "    plt.show()"
      ],
      "execution_count": null,
      "outputs": [
        {
          "output_type": "display_data",
          "data": {
            "image/png": "[encoded data removed]",
            "text/plain": [
              "<Figure size 432x288 with 1 Axes>"
            ]
          },
          "metadata": {
            "tags": []
          }
        }
      ]
    }
  ]
}